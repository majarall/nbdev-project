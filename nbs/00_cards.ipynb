{
 "cells": [
  {
   "cell_type": "code",
   "execution_count": 14,
   "id": "cf49f728",
   "metadata": {},
   "outputs": [],
   "source": [
    "#| default_exp card"
   ]
  },
  {
   "cell_type": "markdown",
   "id": "d84782ef",
   "metadata": {},
   "source": [
    "### Card - A basic playing Card\n",
    "A simple API for creating playing card"
   ]
  },
  {
   "cell_type": "code",
   "execution_count": 15,
   "id": "3cfc6e45-1505-4514-893f-215290233ca4",
   "metadata": {},
   "outputs": [],
   "source": [
    "#| hide \n",
    "\n",
    "from nbdev.showdoc import *\n",
    "from fastcore.test import *\n",
    "from fastcore.utils import patch"
   ]
  },
  {
   "cell_type": "code",
   "execution_count": 34,
   "id": "b200ccb2-c7b0-4333-b156-d811f9c963f5",
   "metadata": {},
   "outputs": [],
   "source": [
    "#| export\n",
    "suits = \"♠♥♦♣\"\n",
    "ranks = [None, \"A\"] + [str(i) for i in range(2,11)] + [\"J\", \"Q\", \"K\"]\n"
   ]
  },
  {
   "cell_type": "code",
   "execution_count": 30,
   "id": "bf974a40",
   "metadata": {},
   "outputs": [],
   "source": [
    "#| export\n",
    "class Card:\n",
    "    \"\"\"A playing card, created by passing in rank from ranks and suit from suits\"\"\"\n",
    "    def __init__(self, \n",
    "                 suit:int,     # An index into suits \n",
    "                 rank:int):    # An index into ranks\n",
    "        self.suit = suit\n",
    "        self.rank = rank \n",
    "    def __str__(self):\n",
    "        return f\"{ranks[self.rank]}{suits[self.suit]}\"\n",
    "    \n",
    "    def __eq__(self,a):\n",
    "        if isinstance(a,Card):\n",
    "            return (self.suit,self.rank) == (a.suit, a.rank)\n",
    "        else:\n",
    "            return False\n",
    "\n",
    "    __repr__ = __str__           # use the same formating as jupyter\n",
    "\n",
    "c = Card(suit=1, rank=3)"
   ]
  },
  {
   "cell_type": "code",
   "execution_count": 31,
   "id": "6de0f47d",
   "metadata": {},
   "outputs": [
    {
     "name": "stdout",
     "output_type": "stream",
     "text": [
      "3♥\n"
     ]
    }
   ],
   "source": [
    "print(c)"
   ]
  },
  {
   "cell_type": "markdown",
   "id": "e4619ef4",
   "metadata": {},
   "source": [
    "### Comparison Operators\n",
    "Equality, less than and greater than work on the rank and indicies"
   ]
  },
  {
   "cell_type": "code",
   "execution_count": 32,
   "id": "52b85656",
   "metadata": {},
   "outputs": [],
   "source": [
    "@patch\n",
    "def __eq__(self:Card, a:Card): return (self.suit, self.rank) == (a.suit, a.rank)"
   ]
  },
  {
   "cell_type": "code",
   "execution_count": 33,
   "id": "2dd4b2d4",
   "metadata": {},
   "outputs": [],
   "source": [
    "#| hide\n",
    "test_eq(Card(suit=1,rank=3), Card(suit=1, rank=3))\n",
    "test_ne(Card(suit=2,rank=3), Card(suit=1, rank=3))\n",
    "test_ne(Card(suit=1,rank=2), Card(suit=1, rank=3))"
   ]
  },
  {
   "cell_type": "code",
   "execution_count": null,
   "id": "5620091d",
   "metadata": {},
   "outputs": [],
   "source": []
  }
 ],
 "metadata": {
  "kernelspec": {
   "display_name": "Python 3 (ipykernel)",
   "language": "python",
   "name": "python3"
  },
  "language_info": {
   "codemirror_mode": {
    "name": "ipython",
    "version": 3
   },
   "file_extension": ".py",
   "mimetype": "text/x-python",
   "name": "python",
   "nbconvert_exporter": "python",
   "pygments_lexer": "ipython3",
   "version": "3.12.2"
  }
 },
 "nbformat": 4,
 "nbformat_minor": 5
}
